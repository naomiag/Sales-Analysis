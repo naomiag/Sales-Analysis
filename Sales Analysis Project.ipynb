{
 "cells": [
  {
   "cell_type": "code",
   "execution_count": 1,
   "id": "df776643-35af-4902-b6fc-7fe6199c79f1",
   "metadata": {
    "tags": []
   },
   "outputs": [],
   "source": [
    "import pandas as pd\n",
    "import matplotlib.pyplot as plt"
   ]
  },
  {
   "cell_type": "markdown",
   "id": "f0cbca64-ec3b-4cb2-8c6d-55a4cec84d62",
   "metadata": {
    "tags": []
   },
   "source": [
    "#### <u>Import dataset from file</u>\n",
    "<p>The dataset we will use contains data of sales from electronics store for 12 months. It store hundreds of thousands of detailed purchases information frome the stores. The data is broken down by month, product type, cost, purchase address, etc.</p>\n",
    "<p> We will use pandas read_csv() to obtain csv file from our directory. Here's my data saved in a folder rooted in my D drive, then I use read_csv() and saved the output inside a variable as a dataframe. After that, we have to analyze the overview of the data. I used shape to find out about the rows and columns of the dataframe. Then, I printed the variable to show several data of the dataframe. </p>"
   ]
  },
  {
   "cell_type": "code",
   "execution_count": 2,
   "id": "8bb66e9e-b8ed-49b1-bed6-d20e38c388e0",
   "metadata": {
    "tags": []
   },
   "outputs": [],
   "source": [
    "df = pd.read_csv('D:\\Documents\\!USAHA\\!Porto4\\SalesAnalysis_data.csv')"
   ]
  },
  {
   "cell_type": "code",
   "execution_count": 3,
   "id": "5b40e560-8195-4d83-ba57-724d514c5cce",
   "metadata": {
    "tags": []
   },
   "outputs": [
    {
     "data": {
      "text/plain": [
       "(186850, 6)"
      ]
     },
     "execution_count": 3,
     "metadata": {},
     "output_type": "execute_result"
    }
   ],
   "source": [
    "df.shape"
   ]
  },
  {
   "cell_type": "code",
   "execution_count": 4,
   "id": "021118ad-6086-43d3-ba85-83924a265644",
   "metadata": {
    "tags": []
   },
   "outputs": [
    {
     "data": {
      "text/html": [
       "<div>\n",
       "<style scoped>\n",
       "    .dataframe tbody tr th:only-of-type {\n",
       "        vertical-align: middle;\n",
       "    }\n",
       "\n",
       "    .dataframe tbody tr th {\n",
       "        vertical-align: top;\n",
       "    }\n",
       "\n",
       "    .dataframe thead th {\n",
       "        text-align: right;\n",
       "    }\n",
       "</style>\n",
       "<table border=\"1\" class=\"dataframe\">\n",
       "  <thead>\n",
       "    <tr style=\"text-align: right;\">\n",
       "      <th></th>\n",
       "      <th>Order ID</th>\n",
       "      <th>Product</th>\n",
       "      <th>Quantity Ordered</th>\n",
       "      <th>Price Each</th>\n",
       "      <th>Order Date</th>\n",
       "      <th>Purchase Address</th>\n",
       "    </tr>\n",
       "  </thead>\n",
       "  <tbody>\n",
       "    <tr>\n",
       "      <th>0</th>\n",
       "      <td>176558</td>\n",
       "      <td>USB-C Charging Cable</td>\n",
       "      <td>2</td>\n",
       "      <td>11.95</td>\n",
       "      <td>04/19/19 08:46</td>\n",
       "      <td>917 1st St, Dallas, TX 75001</td>\n",
       "    </tr>\n",
       "    <tr>\n",
       "      <th>1</th>\n",
       "      <td>NaN</td>\n",
       "      <td>NaN</td>\n",
       "      <td>NaN</td>\n",
       "      <td>NaN</td>\n",
       "      <td>NaN</td>\n",
       "      <td>NaN</td>\n",
       "    </tr>\n",
       "    <tr>\n",
       "      <th>2</th>\n",
       "      <td>176559</td>\n",
       "      <td>Bose SoundSport Headphones</td>\n",
       "      <td>1</td>\n",
       "      <td>99.99</td>\n",
       "      <td>04/07/19 22:30</td>\n",
       "      <td>682 Chestnut St, Boston, MA 02215</td>\n",
       "    </tr>\n",
       "    <tr>\n",
       "      <th>3</th>\n",
       "      <td>176560</td>\n",
       "      <td>Google Phone</td>\n",
       "      <td>1</td>\n",
       "      <td>600</td>\n",
       "      <td>04/12/19 14:38</td>\n",
       "      <td>669 Spruce St, Los Angeles, CA 90001</td>\n",
       "    </tr>\n",
       "    <tr>\n",
       "      <th>4</th>\n",
       "      <td>176560</td>\n",
       "      <td>Wired Headphones</td>\n",
       "      <td>1</td>\n",
       "      <td>11.99</td>\n",
       "      <td>04/12/19 14:38</td>\n",
       "      <td>669 Spruce St, Los Angeles, CA 90001</td>\n",
       "    </tr>\n",
       "  </tbody>\n",
       "</table>\n",
       "</div>"
      ],
      "text/plain": [
       "  Order ID                     Product Quantity Ordered Price Each  \\\n",
       "0   176558        USB-C Charging Cable                2      11.95   \n",
       "1      NaN                         NaN              NaN        NaN   \n",
       "2   176559  Bose SoundSport Headphones                1      99.99   \n",
       "3   176560                Google Phone                1        600   \n",
       "4   176560            Wired Headphones                1      11.99   \n",
       "\n",
       "       Order Date                      Purchase Address  \n",
       "0  04/19/19 08:46          917 1st St, Dallas, TX 75001  \n",
       "1             NaN                                   NaN  \n",
       "2  04/07/19 22:30     682 Chestnut St, Boston, MA 02215  \n",
       "3  04/12/19 14:38  669 Spruce St, Los Angeles, CA 90001  \n",
       "4  04/12/19 14:38  669 Spruce St, Los Angeles, CA 90001  "
      ]
     },
     "execution_count": 4,
     "metadata": {},
     "output_type": "execute_result"
    }
   ],
   "source": [
    "df.head()"
   ]
  },
  {
   "cell_type": "markdown",
   "id": "253e65c6-5530-4a81-89d0-ddb584fc7ed0",
   "metadata": {
    "tags": []
   },
   "source": [
    "#### <u>Preparing data</u>\n",
    "<p>The data set we have contains empty rows and other unnecessary data. That's why data cleaning is needed for facilitate later analysis. <br> We will count the null values in every column  using .isnull() and sumarize the total null founded. It shows the total null values existed in every column are 545.\n",
    "    <br> Next, we use .any() with parameter axis=1, so the shown data will show all null value that existed in any cell of each row(index). This command shows there are 545 rows that contain atleast one null value in each row. So, we will check if the rows here would have null values in their entire columns, by changing .any() to .all(). The result is, appearently all the 545 rows we found earlier contained null values in every columns."
   ]
  },
  {
   "cell_type": "code",
   "execution_count": 5,
   "id": "fafee50a-b0a8-4bb7-9d63-0ff6e3bd9bc7",
   "metadata": {
    "tags": []
   },
   "outputs": [
    {
     "data": {
      "text/plain": [
       "Order ID            545\n",
       "Product             545\n",
       "Quantity Ordered    545\n",
       "Price Each          545\n",
       "Order Date          545\n",
       "Purchase Address    545\n",
       "dtype: int64"
      ]
     },
     "execution_count": 5,
     "metadata": {},
     "output_type": "execute_result"
    }
   ],
   "source": [
    "#count null values\n",
    "df.isnull().sum()"
   ]
  },
  {
   "cell_type": "code",
   "execution_count": 6,
   "id": "0f457d97-d8fd-400b-995e-c22e5285b038",
   "metadata": {
    "tags": []
   },
   "outputs": [
    {
     "data": {
      "text/html": [
       "<div>\n",
       "<style scoped>\n",
       "    .dataframe tbody tr th:only-of-type {\n",
       "        vertical-align: middle;\n",
       "    }\n",
       "\n",
       "    .dataframe tbody tr th {\n",
       "        vertical-align: top;\n",
       "    }\n",
       "\n",
       "    .dataframe thead th {\n",
       "        text-align: right;\n",
       "    }\n",
       "</style>\n",
       "<table border=\"1\" class=\"dataframe\">\n",
       "  <thead>\n",
       "    <tr style=\"text-align: right;\">\n",
       "      <th></th>\n",
       "      <th>Order ID</th>\n",
       "      <th>Product</th>\n",
       "      <th>Quantity Ordered</th>\n",
       "      <th>Price Each</th>\n",
       "      <th>Order Date</th>\n",
       "      <th>Purchase Address</th>\n",
       "    </tr>\n",
       "  </thead>\n",
       "  <tbody>\n",
       "    <tr>\n",
       "      <th>1</th>\n",
       "      <td>NaN</td>\n",
       "      <td>NaN</td>\n",
       "      <td>NaN</td>\n",
       "      <td>NaN</td>\n",
       "      <td>NaN</td>\n",
       "      <td>NaN</td>\n",
       "    </tr>\n",
       "    <tr>\n",
       "      <th>356</th>\n",
       "      <td>NaN</td>\n",
       "      <td>NaN</td>\n",
       "      <td>NaN</td>\n",
       "      <td>NaN</td>\n",
       "      <td>NaN</td>\n",
       "      <td>NaN</td>\n",
       "    </tr>\n",
       "    <tr>\n",
       "      <th>735</th>\n",
       "      <td>NaN</td>\n",
       "      <td>NaN</td>\n",
       "      <td>NaN</td>\n",
       "      <td>NaN</td>\n",
       "      <td>NaN</td>\n",
       "      <td>NaN</td>\n",
       "    </tr>\n",
       "    <tr>\n",
       "      <th>1433</th>\n",
       "      <td>NaN</td>\n",
       "      <td>NaN</td>\n",
       "      <td>NaN</td>\n",
       "      <td>NaN</td>\n",
       "      <td>NaN</td>\n",
       "      <td>NaN</td>\n",
       "    </tr>\n",
       "    <tr>\n",
       "      <th>1553</th>\n",
       "      <td>NaN</td>\n",
       "      <td>NaN</td>\n",
       "      <td>NaN</td>\n",
       "      <td>NaN</td>\n",
       "      <td>NaN</td>\n",
       "      <td>NaN</td>\n",
       "    </tr>\n",
       "    <tr>\n",
       "      <th>...</th>\n",
       "      <td>...</td>\n",
       "      <td>...</td>\n",
       "      <td>...</td>\n",
       "      <td>...</td>\n",
       "      <td>...</td>\n",
       "      <td>...</td>\n",
       "    </tr>\n",
       "    <tr>\n",
       "      <th>185176</th>\n",
       "      <td>NaN</td>\n",
       "      <td>NaN</td>\n",
       "      <td>NaN</td>\n",
       "      <td>NaN</td>\n",
       "      <td>NaN</td>\n",
       "      <td>NaN</td>\n",
       "    </tr>\n",
       "    <tr>\n",
       "      <th>185438</th>\n",
       "      <td>NaN</td>\n",
       "      <td>NaN</td>\n",
       "      <td>NaN</td>\n",
       "      <td>NaN</td>\n",
       "      <td>NaN</td>\n",
       "      <td>NaN</td>\n",
       "    </tr>\n",
       "    <tr>\n",
       "      <th>186042</th>\n",
       "      <td>NaN</td>\n",
       "      <td>NaN</td>\n",
       "      <td>NaN</td>\n",
       "      <td>NaN</td>\n",
       "      <td>NaN</td>\n",
       "      <td>NaN</td>\n",
       "    </tr>\n",
       "    <tr>\n",
       "      <th>186548</th>\n",
       "      <td>NaN</td>\n",
       "      <td>NaN</td>\n",
       "      <td>NaN</td>\n",
       "      <td>NaN</td>\n",
       "      <td>NaN</td>\n",
       "      <td>NaN</td>\n",
       "    </tr>\n",
       "    <tr>\n",
       "      <th>186826</th>\n",
       "      <td>NaN</td>\n",
       "      <td>NaN</td>\n",
       "      <td>NaN</td>\n",
       "      <td>NaN</td>\n",
       "      <td>NaN</td>\n",
       "      <td>NaN</td>\n",
       "    </tr>\n",
       "  </tbody>\n",
       "</table>\n",
       "<p>545 rows × 6 columns</p>\n",
       "</div>"
      ],
      "text/plain": [
       "       Order ID Product Quantity Ordered Price Each Order Date  \\\n",
       "1           NaN     NaN              NaN        NaN        NaN   \n",
       "356         NaN     NaN              NaN        NaN        NaN   \n",
       "735         NaN     NaN              NaN        NaN        NaN   \n",
       "1433        NaN     NaN              NaN        NaN        NaN   \n",
       "1553        NaN     NaN              NaN        NaN        NaN   \n",
       "...         ...     ...              ...        ...        ...   \n",
       "185176      NaN     NaN              NaN        NaN        NaN   \n",
       "185438      NaN     NaN              NaN        NaN        NaN   \n",
       "186042      NaN     NaN              NaN        NaN        NaN   \n",
       "186548      NaN     NaN              NaN        NaN        NaN   \n",
       "186826      NaN     NaN              NaN        NaN        NaN   \n",
       "\n",
       "       Purchase Address  \n",
       "1                   NaN  \n",
       "356                 NaN  \n",
       "735                 NaN  \n",
       "1433                NaN  \n",
       "1553                NaN  \n",
       "...                 ...  \n",
       "185176              NaN  \n",
       "185438              NaN  \n",
       "186042              NaN  \n",
       "186548              NaN  \n",
       "186826              NaN  \n",
       "\n",
       "[545 rows x 6 columns]"
      ]
     },
     "execution_count": 6,
     "metadata": {},
     "output_type": "execute_result"
    }
   ],
   "source": [
    "#view data with null values\n",
    "#df[df.isnull().any(axis=1)]\n",
    "df[df.isnull().all(axis=1)]"
   ]
  },
  {
   "cell_type": "markdown",
   "id": "94f92fc6-fb49-4455-ba3c-90e474625c41",
   "metadata": {},
   "source": [
    "<p> I also noticed that the data has several values in its cells which have header name as its values. So, I will go through the data that contain value of header name. I pick the 'Order ID' columns, which is supposed to show number instead of string/object. Here we found 355 rows that contain header name as its value and we don't need these data for the analysis.</p>"
   ]
  },
  {
   "cell_type": "code",
   "execution_count": 7,
   "id": "e427c14c-932a-4b25-bd3f-99360567d608",
   "metadata": {
    "tags": []
   },
   "outputs": [
    {
     "data": {
      "text/html": [
       "<div>\n",
       "<style scoped>\n",
       "    .dataframe tbody tr th:only-of-type {\n",
       "        vertical-align: middle;\n",
       "    }\n",
       "\n",
       "    .dataframe tbody tr th {\n",
       "        vertical-align: top;\n",
       "    }\n",
       "\n",
       "    .dataframe thead th {\n",
       "        text-align: right;\n",
       "    }\n",
       "</style>\n",
       "<table border=\"1\" class=\"dataframe\">\n",
       "  <thead>\n",
       "    <tr style=\"text-align: right;\">\n",
       "      <th></th>\n",
       "      <th>Order ID</th>\n",
       "      <th>Product</th>\n",
       "      <th>Quantity Ordered</th>\n",
       "      <th>Price Each</th>\n",
       "      <th>Order Date</th>\n",
       "      <th>Purchase Address</th>\n",
       "    </tr>\n",
       "  </thead>\n",
       "  <tbody>\n",
       "    <tr>\n",
       "      <th>519</th>\n",
       "      <td>Order ID</td>\n",
       "      <td>Product</td>\n",
       "      <td>Quantity Ordered</td>\n",
       "      <td>Price Each</td>\n",
       "      <td>Order Date</td>\n",
       "      <td>Purchase Address</td>\n",
       "    </tr>\n",
       "    <tr>\n",
       "      <th>1149</th>\n",
       "      <td>Order ID</td>\n",
       "      <td>Product</td>\n",
       "      <td>Quantity Ordered</td>\n",
       "      <td>Price Each</td>\n",
       "      <td>Order Date</td>\n",
       "      <td>Purchase Address</td>\n",
       "    </tr>\n",
       "    <tr>\n",
       "      <th>1155</th>\n",
       "      <td>Order ID</td>\n",
       "      <td>Product</td>\n",
       "      <td>Quantity Ordered</td>\n",
       "      <td>Price Each</td>\n",
       "      <td>Order Date</td>\n",
       "      <td>Purchase Address</td>\n",
       "    </tr>\n",
       "    <tr>\n",
       "      <th>2878</th>\n",
       "      <td>Order ID</td>\n",
       "      <td>Product</td>\n",
       "      <td>Quantity Ordered</td>\n",
       "      <td>Price Each</td>\n",
       "      <td>Order Date</td>\n",
       "      <td>Purchase Address</td>\n",
       "    </tr>\n",
       "    <tr>\n",
       "      <th>2893</th>\n",
       "      <td>Order ID</td>\n",
       "      <td>Product</td>\n",
       "      <td>Quantity Ordered</td>\n",
       "      <td>Price Each</td>\n",
       "      <td>Order Date</td>\n",
       "      <td>Purchase Address</td>\n",
       "    </tr>\n",
       "    <tr>\n",
       "      <th>...</th>\n",
       "      <td>...</td>\n",
       "      <td>...</td>\n",
       "      <td>...</td>\n",
       "      <td>...</td>\n",
       "      <td>...</td>\n",
       "      <td>...</td>\n",
       "    </tr>\n",
       "    <tr>\n",
       "      <th>185164</th>\n",
       "      <td>Order ID</td>\n",
       "      <td>Product</td>\n",
       "      <td>Quantity Ordered</td>\n",
       "      <td>Price Each</td>\n",
       "      <td>Order Date</td>\n",
       "      <td>Purchase Address</td>\n",
       "    </tr>\n",
       "    <tr>\n",
       "      <th>185551</th>\n",
       "      <td>Order ID</td>\n",
       "      <td>Product</td>\n",
       "      <td>Quantity Ordered</td>\n",
       "      <td>Price Each</td>\n",
       "      <td>Order Date</td>\n",
       "      <td>Purchase Address</td>\n",
       "    </tr>\n",
       "    <tr>\n",
       "      <th>186563</th>\n",
       "      <td>Order ID</td>\n",
       "      <td>Product</td>\n",
       "      <td>Quantity Ordered</td>\n",
       "      <td>Price Each</td>\n",
       "      <td>Order Date</td>\n",
       "      <td>Purchase Address</td>\n",
       "    </tr>\n",
       "    <tr>\n",
       "      <th>186632</th>\n",
       "      <td>Order ID</td>\n",
       "      <td>Product</td>\n",
       "      <td>Quantity Ordered</td>\n",
       "      <td>Price Each</td>\n",
       "      <td>Order Date</td>\n",
       "      <td>Purchase Address</td>\n",
       "    </tr>\n",
       "    <tr>\n",
       "      <th>186738</th>\n",
       "      <td>Order ID</td>\n",
       "      <td>Product</td>\n",
       "      <td>Quantity Ordered</td>\n",
       "      <td>Price Each</td>\n",
       "      <td>Order Date</td>\n",
       "      <td>Purchase Address</td>\n",
       "    </tr>\n",
       "  </tbody>\n",
       "</table>\n",
       "<p>355 rows × 6 columns</p>\n",
       "</div>"
      ],
      "text/plain": [
       "        Order ID  Product  Quantity Ordered  Price Each  Order Date  \\\n",
       "519     Order ID  Product  Quantity Ordered  Price Each  Order Date   \n",
       "1149    Order ID  Product  Quantity Ordered  Price Each  Order Date   \n",
       "1155    Order ID  Product  Quantity Ordered  Price Each  Order Date   \n",
       "2878    Order ID  Product  Quantity Ordered  Price Each  Order Date   \n",
       "2893    Order ID  Product  Quantity Ordered  Price Each  Order Date   \n",
       "...          ...      ...               ...         ...         ...   \n",
       "185164  Order ID  Product  Quantity Ordered  Price Each  Order Date   \n",
       "185551  Order ID  Product  Quantity Ordered  Price Each  Order Date   \n",
       "186563  Order ID  Product  Quantity Ordered  Price Each  Order Date   \n",
       "186632  Order ID  Product  Quantity Ordered  Price Each  Order Date   \n",
       "186738  Order ID  Product  Quantity Ordered  Price Each  Order Date   \n",
       "\n",
       "        Purchase Address  \n",
       "519     Purchase Address  \n",
       "1149    Purchase Address  \n",
       "1155    Purchase Address  \n",
       "2878    Purchase Address  \n",
       "2893    Purchase Address  \n",
       "...                  ...  \n",
       "185164  Purchase Address  \n",
       "185551  Purchase Address  \n",
       "186563  Purchase Address  \n",
       "186632  Purchase Address  \n",
       "186738  Purchase Address  \n",
       "\n",
       "[355 rows x 6 columns]"
      ]
     },
     "execution_count": 7,
     "metadata": {},
     "output_type": "execute_result"
    }
   ],
   "source": [
    "#drop unused row\n",
    "df.loc[df['Order ID'] == 'Order ID']"
   ]
  },
  {
   "cell_type": "markdown",
   "id": "30821f9a-dc91-446d-8a42-52391fa709e9",
   "metadata": {},
   "source": [
    "<p> From the previous anlysis, we know that there are rows that need to be dropped. Because we know the condition of those data, we can apply it on drop command. <br> Then, we check the data shape to know the change occurred. Now, we have data that contains 185950 rows and 6 columns."
   ]
  },
  {
   "cell_type": "code",
   "execution_count": 8,
   "id": "ebcc601c-39ec-425b-9314-3a3a3de443a0",
   "metadata": {
    "tags": []
   },
   "outputs": [
    {
     "data": {
      "text/plain": [
       "(185950, 6)"
      ]
     },
     "execution_count": 8,
     "metadata": {},
     "output_type": "execute_result"
    }
   ],
   "source": [
    "#drop null rows and unwanted rows\n",
    "df.dropna(how='all', inplace=True)\n",
    "df.drop(df[df['Order ID'].str.contains('Order ID')].index, inplace=True)\n",
    "df.shape"
   ]
  },
  {
   "cell_type": "markdown",
   "id": "1b0ffeef-a8dc-4583-817f-717736127223",
   "metadata": {},
   "source": [
    "<p>The columns of the dataframe need to transformed into certain datatype for simplify analysis process. The columns are 'Quantity Ordered', 'Price Each', and 'Order Date' which need to change into numeric and date type. </p>"
   ]
  },
  {
   "cell_type": "code",
   "execution_count": 9,
   "id": "f5cb7653-6811-44b8-ac5c-63f4c4cc56be",
   "metadata": {
    "tags": []
   },
   "outputs": [
    {
     "data": {
      "text/plain": [
       "Order ID            object\n",
       "Product             object\n",
       "Quantity Ordered    object\n",
       "Price Each          object\n",
       "Order Date          object\n",
       "Purchase Address    object\n",
       "dtype: object"
      ]
     },
     "execution_count": 9,
     "metadata": {},
     "output_type": "execute_result"
    }
   ],
   "source": [
    "df.dtypes"
   ]
  },
  {
   "cell_type": "code",
   "execution_count": 10,
   "id": "dbbe5e01-7ed9-4e50-b7a7-0fb0e25d7661",
   "metadata": {
    "tags": []
   },
   "outputs": [],
   "source": [
    "#parse datatype\n",
    "df['Quantity Ordered'] = pd.to_numeric(df['Quantity Ordered'])\n",
    "df['Price Each'] = pd.to_numeric(df['Price Each'])\n",
    "df['Order Date'] = pd.to_datetime(df['Order Date'])"
   ]
  },
  {
   "cell_type": "markdown",
   "id": "2e39c0e4-2992-4855-9422-a3cc521ad0c3",
   "metadata": {},
   "source": [
    "### 1. How much sales has been made for each month?"
   ]
  },
  {
   "cell_type": "markdown",
   "id": "efde2790-701d-44db-96bd-80a3ca7d67ab",
   "metadata": {},
   "source": [
    "<p> Before analize the data, we need to add a new column for the order month taken from the month part of the 'Order Date' column values. But first, make sure that there's no column with similar name as the new column's name by using drop function. The drop function need to consist of errors='ignore' syntax to handle error if the column with a similar name was not found.\n",
    "    Then, we use .dt.month on the 'Order Date' column so we can get the month number and save it to the new column, 'Order Month'.\n",
    "    After that, I moved the new column to the right side of the 'Order Month' column with .insert(). Inside the parenthesess, for the first argument, we put the index location we will use for the 'Order Month' column, second argument is for the column name, third argument is .pop() syntax which will get the 'Order Month' column from the current dataframe. </p>"
   ]
  },
  {
   "cell_type": "code",
   "execution_count": 11,
   "id": "6a86d9ae-64aa-4754-a364-e06f3bfe5ddd",
   "metadata": {
    "tags": []
   },
   "outputs": [],
   "source": [
    "#drop if exists\n",
    "df.drop('Order Month', axis=1, errors='ignore')\n",
    "#add month column\n",
    "df['Order Month'] = df['Order Date'].dt.month\n",
    "#rearrange columns\n",
    "df.insert(5, 'Order Month', df.pop('Order Month'))"
   ]
  },
  {
   "cell_type": "markdown",
   "id": "0787beeb-a441-4be6-8c1e-f6256b8ec679",
   "metadata": {},
   "source": [
    "<p> Here, we add a new column for sales calculation and save the result in a dataframe for the visualization.<p>"
   ]
  },
  {
   "cell_type": "code",
   "execution_count": 12,
   "id": "1d537aea-e824-4ae7-90ff-48fa9eec46e5",
   "metadata": {
    "tags": []
   },
   "outputs": [],
   "source": [
    "#add sales column\n",
    "df['Sales'] = df['Quantity Ordered'] * df['Price Each']"
   ]
  },
  {
   "cell_type": "markdown",
   "id": "f65e8e17-fd1d-4abb-bacd-2b7dfdc87644",
   "metadata": {},
   "source": [
    "<p> Then, after everything what we need is there, we can group the data by the values of 'Order Month' and sum up the value of 'Sales' column to see the total sales of each month.\n",
    "    We will save the output as the dataframe for the visualization.</p>"
   ]
  },
  {
   "cell_type": "code",
   "execution_count": 13,
   "id": "0e05d87c-f188-45c4-bd22-20fe4ed70159",
   "metadata": {
    "tags": []
   },
   "outputs": [
    {
     "data": {
      "text/html": [
       "<div>\n",
       "<style scoped>\n",
       "    .dataframe tbody tr th:only-of-type {\n",
       "        vertical-align: middle;\n",
       "    }\n",
       "\n",
       "    .dataframe tbody tr th {\n",
       "        vertical-align: top;\n",
       "    }\n",
       "\n",
       "    .dataframe thead th {\n",
       "        text-align: right;\n",
       "    }\n",
       "</style>\n",
       "<table border=\"1\" class=\"dataframe\">\n",
       "  <thead>\n",
       "    <tr style=\"text-align: right;\">\n",
       "      <th></th>\n",
       "      <th>Order Month</th>\n",
       "      <th>Sales</th>\n",
       "    </tr>\n",
       "  </thead>\n",
       "  <tbody>\n",
       "    <tr>\n",
       "      <th>0</th>\n",
       "      <td>1</td>\n",
       "      <td>1822256.73</td>\n",
       "    </tr>\n",
       "    <tr>\n",
       "      <th>1</th>\n",
       "      <td>2</td>\n",
       "      <td>2202022.42</td>\n",
       "    </tr>\n",
       "    <tr>\n",
       "      <th>2</th>\n",
       "      <td>3</td>\n",
       "      <td>2807100.38</td>\n",
       "    </tr>\n",
       "    <tr>\n",
       "      <th>3</th>\n",
       "      <td>4</td>\n",
       "      <td>3390670.24</td>\n",
       "    </tr>\n",
       "    <tr>\n",
       "      <th>4</th>\n",
       "      <td>5</td>\n",
       "      <td>3152606.75</td>\n",
       "    </tr>\n",
       "    <tr>\n",
       "      <th>5</th>\n",
       "      <td>6</td>\n",
       "      <td>2577802.26</td>\n",
       "    </tr>\n",
       "    <tr>\n",
       "      <th>6</th>\n",
       "      <td>7</td>\n",
       "      <td>2647775.76</td>\n",
       "    </tr>\n",
       "    <tr>\n",
       "      <th>7</th>\n",
       "      <td>8</td>\n",
       "      <td>2244467.88</td>\n",
       "    </tr>\n",
       "    <tr>\n",
       "      <th>8</th>\n",
       "      <td>9</td>\n",
       "      <td>2097560.13</td>\n",
       "    </tr>\n",
       "    <tr>\n",
       "      <th>9</th>\n",
       "      <td>10</td>\n",
       "      <td>3736726.88</td>\n",
       "    </tr>\n",
       "    <tr>\n",
       "      <th>10</th>\n",
       "      <td>11</td>\n",
       "      <td>3199603.20</td>\n",
       "    </tr>\n",
       "    <tr>\n",
       "      <th>11</th>\n",
       "      <td>12</td>\n",
       "      <td>4613443.34</td>\n",
       "    </tr>\n",
       "  </tbody>\n",
       "</table>\n",
       "</div>"
      ],
      "text/plain": [
       "    Order Month       Sales\n",
       "0             1  1822256.73\n",
       "1             2  2202022.42\n",
       "2             3  2807100.38\n",
       "3             4  3390670.24\n",
       "4             5  3152606.75\n",
       "5             6  2577802.26\n",
       "6             7  2647775.76\n",
       "7             8  2244467.88\n",
       "8             9  2097560.13\n",
       "9            10  3736726.88\n",
       "10           11  3199603.20\n",
       "11           12  4613443.34"
      ]
     },
     "execution_count": 13,
     "metadata": {},
     "output_type": "execute_result"
    }
   ],
   "source": [
    "#What was the best month for sales\n",
    "#df['Order Date'].dt.year.value_counts()\n",
    "output = pd.DataFrame(df.groupby(df['Order Month'])['Sales'].sum(), index=None).reset_index()\n",
    "output"
   ]
  },
  {
   "cell_type": "markdown",
   "id": "e6b0772b-774f-4eeb-bac2-03a9e48c86da",
   "metadata": {},
   "source": [
    "<p> From the result of previous line, the information that can be acquired from this analysis, is the most sales of product from electronic store happened in 12th month, which is December. It shows the total sales obtained is over 4.5 million USD. For better delivery to stakeholders, we need to use visualization for the result. We will use matplotlib to make the visualization. Below, is the code for transforming the data in dataframe into bar chart. We need value of 'Order Month' and 'Sales' to make the chart. We can also put the information that could help anyone to understand the chart. Here, we add the title, and the label for both x and y coordinate line. </p> "
   ]
  },
  {
   "cell_type": "code",
   "execution_count": 14,
   "id": "bcbb3454-fcc7-4126-8197-c26779a112f9",
   "metadata": {
    "tags": []
   },
   "outputs": [
    {
     "data": {
      "image/png": "[encoded data removed]",
      "text/plain": [
       "<Figure size 640x480 with 1 Axes>"
      ]
     },
     "metadata": {},
     "output_type": "display_data"
    }
   ],
   "source": [
    "plt.bar(output['Order Month'].unique(), output['Sales'], color='orange')\n",
    "plt.xticks(output['Order Month'])\n",
    "plt.xlabel('Month')\n",
    "plt.ylabel('Sales USD')\n",
    "plt.ticklabel_format(style='plain')\n",
    "plt.title('Sales per Month')\n",
    "plt.show()"
   ]
  },
  {
   "cell_type": "markdown",
   "id": "e4e574ab-f6cf-400e-82c8-4dfb07f1924d",
   "metadata": {},
   "source": [
    "<p><strong>Here, we can see the whole information, we can see, that, beside the largest sales that happened in December, there also the least sales of electronic store that happened in the first month which is January with total sales under 200 million USD. This bar chart can help us to understanding the data better instead using the tabular form. </strong></p>   "
   ]
  },
  {
   "cell_type": "markdown",
   "id": "96c11b01-8ed2-4fe2-a2dd-8870fcb8b8ba",
   "metadata": {},
   "source": [
    "***"
   ]
  },
  {
   "cell_type": "markdown",
   "id": "65ab4ffc-e9b7-4754-afe3-b975e3e97fc7",
   "metadata": {
    "tags": []
   },
   "source": [
    "### 2. Highest number of sales per city?"
   ]
  },
  {
   "cell_type": "markdown",
   "id": "00061575-8626-4d5d-9a4b-f17aa38fbc20",
   "metadata": {},
   "source": [
    "<p> For this question, we want to see total sales for each city. <br> We need to add a new columnn to save city information of the orders. We will take it from the 'Purchase Address' because it contains the detail address, city's name and city's code. The value of the 'Purchase Address' must be split using .split() and add a comma as the argument because we will divide the word of the value every time we meet comma in the value. The comma acts as seperator for the value. We also need to put down the position of the word from the value that we will divide using index in a square brackets. We are using apply and lambda to apply this chain of expressions for every value existed in the 'Purchase Address' column.\n",
    "</p>"
   ]
  },
  {
   "cell_type": "code",
   "execution_count": 15,
   "id": "a578ba15-c0c0-41d1-8b26-5265234ff048",
   "metadata": {
    "tags": []
   },
   "outputs": [
    {
     "data": {
      "text/html": [
       "<div>\n",
       "<style scoped>\n",
       "    .dataframe tbody tr th:only-of-type {\n",
       "        vertical-align: middle;\n",
       "    }\n",
       "\n",
       "    .dataframe tbody tr th {\n",
       "        vertical-align: top;\n",
       "    }\n",
       "\n",
       "    .dataframe thead th {\n",
       "        text-align: right;\n",
       "    }\n",
       "</style>\n",
       "<table border=\"1\" class=\"dataframe\">\n",
       "  <thead>\n",
       "    <tr style=\"text-align: right;\">\n",
       "      <th></th>\n",
       "      <th>Order ID</th>\n",
       "      <th>Product</th>\n",
       "      <th>Quantity Ordered</th>\n",
       "      <th>Price Each</th>\n",
       "      <th>Order Date</th>\n",
       "      <th>Order Month</th>\n",
       "      <th>Purchase Address</th>\n",
       "      <th>City</th>\n",
       "      <th>Sales</th>\n",
       "    </tr>\n",
       "  </thead>\n",
       "  <tbody>\n",
       "    <tr>\n",
       "      <th>0</th>\n",
       "      <td>176558</td>\n",
       "      <td>USB-C Charging Cable</td>\n",
       "      <td>2</td>\n",
       "      <td>11.95</td>\n",
       "      <td>2019-04-19 08:46:00</td>\n",
       "      <td>4</td>\n",
       "      <td>917 1st St, Dallas, TX 75001</td>\n",
       "      <td>Dallas (TX)</td>\n",
       "      <td>23.90</td>\n",
       "    </tr>\n",
       "    <tr>\n",
       "      <th>2</th>\n",
       "      <td>176559</td>\n",
       "      <td>Bose SoundSport Headphones</td>\n",
       "      <td>1</td>\n",
       "      <td>99.99</td>\n",
       "      <td>2019-04-07 22:30:00</td>\n",
       "      <td>4</td>\n",
       "      <td>682 Chestnut St, Boston, MA 02215</td>\n",
       "      <td>Boston (MA)</td>\n",
       "      <td>99.99</td>\n",
       "    </tr>\n",
       "  </tbody>\n",
       "</table>\n",
       "</div>"
      ],
      "text/plain": [
       "  Order ID                     Product  Quantity Ordered  Price Each  \\\n",
       "0   176558        USB-C Charging Cable                 2       11.95   \n",
       "2   176559  Bose SoundSport Headphones                 1       99.99   \n",
       "\n",
       "           Order Date  Order Month                   Purchase Address  \\\n",
       "0 2019-04-19 08:46:00            4       917 1st St, Dallas, TX 75001   \n",
       "2 2019-04-07 22:30:00            4  682 Chestnut St, Boston, MA 02215   \n",
       "\n",
       "           City  Sales  \n",
       "0   Dallas (TX)  23.90  \n",
       "2   Boston (MA)  99.99  "
      ]
     },
     "execution_count": 15,
     "metadata": {},
     "output_type": "execute_result"
    }
   ],
   "source": [
    "#drop column if exist and add 'City' column\n",
    "df.drop(columns='City', inplace=True, errors='ignore')\n",
    "df.insert(7, 'City', df['Purchase Address'].apply(lambda x:x.split(',')[1] + ' (' + x.split(',')[2].split(' ')[1]) +')')\n",
    "df.head(2)"
   ]
  },
  {
   "cell_type": "markdown",
   "id": "3f7fe25b-e3b0-48c4-b0da-4411b4f288e0",
   "metadata": {},
   "source": [
    "<p>Then, we will analyze the total sales per city. We can see this result by grouping the data by its city, which column we made earlier. We also sum the sales data and sort it base ont the total sales, so we can see the largest amount of sales per city. \n",
    "    We will save our analysis data using 'output' dataframe for the visualization.</p>"
   ]
  },
  {
   "cell_type": "code",
   "execution_count": 16,
   "id": "e0955024-5a93-4e89-9b0f-a042d0da768a",
   "metadata": {},
   "outputs": [
    {
     "data": {
      "text/html": [
       "<div>\n",
       "<style scoped>\n",
       "    .dataframe tbody tr th:only-of-type {\n",
       "        vertical-align: middle;\n",
       "    }\n",
       "\n",
       "    .dataframe tbody tr th {\n",
       "        vertical-align: top;\n",
       "    }\n",
       "\n",
       "    .dataframe thead th {\n",
       "        text-align: right;\n",
       "    }\n",
       "</style>\n",
       "<table border=\"1\" class=\"dataframe\">\n",
       "  <thead>\n",
       "    <tr style=\"text-align: right;\">\n",
       "      <th></th>\n",
       "      <th>Quantity Ordered</th>\n",
       "      <th>Price Each</th>\n",
       "      <th>Order Month</th>\n",
       "      <th>Sales</th>\n",
       "    </tr>\n",
       "    <tr>\n",
       "      <th>City</th>\n",
       "      <th></th>\n",
       "      <th></th>\n",
       "      <th></th>\n",
       "      <th></th>\n",
       "    </tr>\n",
       "  </thead>\n",
       "  <tbody>\n",
       "    <tr>\n",
       "      <th>San Francisco (CA)</th>\n",
       "      <td>50239</td>\n",
       "      <td>8211461.74</td>\n",
       "      <td>315520</td>\n",
       "      <td>8262203.91</td>\n",
       "    </tr>\n",
       "    <tr>\n",
       "      <th>Los Angeles (CA)</th>\n",
       "      <td>33289</td>\n",
       "      <td>5421435.23</td>\n",
       "      <td>208325</td>\n",
       "      <td>5452570.80</td>\n",
       "    </tr>\n",
       "    <tr>\n",
       "      <th>New York City (NY)</th>\n",
       "      <td>27932</td>\n",
       "      <td>4635370.83</td>\n",
       "      <td>175741</td>\n",
       "      <td>4664317.43</td>\n",
       "    </tr>\n",
       "    <tr>\n",
       "      <th>Boston (MA)</th>\n",
       "      <td>22528</td>\n",
       "      <td>3637409.77</td>\n",
       "      <td>141112</td>\n",
       "      <td>3661642.01</td>\n",
       "    </tr>\n",
       "    <tr>\n",
       "      <th>Atlanta (GA)</th>\n",
       "      <td>16602</td>\n",
       "      <td>2779908.20</td>\n",
       "      <td>104794</td>\n",
       "      <td>2795498.58</td>\n",
       "    </tr>\n",
       "  </tbody>\n",
       "</table>\n",
       "</div>"
      ],
      "text/plain": [
       "                     Quantity Ordered  Price Each  Order Month       Sales\n",
       "City                                                                      \n",
       " San Francisco (CA)             50239  8211461.74       315520  8262203.91\n",
       " Los Angeles (CA)               33289  5421435.23       208325  5452570.80\n",
       " New York City (NY)             27932  4635370.83       175741  4664317.43\n",
       " Boston (MA)                    22528  3637409.77       141112  3661642.01\n",
       " Atlanta (GA)                   16602  2779908.20       104794  2795498.58"
      ]
     },
     "execution_count": 16,
     "metadata": {},
     "output_type": "execute_result"
    }
   ],
   "source": [
    "#save data that grouped by City and get the total sales\n",
    "output = pd.DataFrame(df.groupby('City').sum().sort_values('Sales', ascending=False))\n",
    "output.head()"
   ]
  },
  {
   "cell_type": "markdown",
   "id": "ccc8497c-4340-40de-97ae-ebaee11f545c",
   "metadata": {},
   "source": [
    "<p> We can see the goal of the anlysis for the second question has been answered by seeing the table above. But, for better understanding we will show the data in chart form. The code for transforming the table is below. We use data from the 'City' and 'Sales' column as the dimension for visualization.</p>"
   ]
  },
  {
   "cell_type": "code",
   "execution_count": 17,
   "id": "9122aa7d-062b-4baa-8af4-4deff2d863b5",
   "metadata": {
    "tags": []
   },
   "outputs": [
    {
     "data": {
      "image/png": "[encoded data removed]",
      "text/plain": [
       "<Figure size 640x480 with 1 Axes>"
      ]
     },
     "metadata": {},
     "output_type": "display_data"
    }
   ],
   "source": [
    "cities_label = [city for city, d in df.groupby('City')]\n",
    "plt.bar(cities_label, df.groupby('City')['Sales'].sum(), color='orange')\n",
    "#plt.bar(output['City'], output['Sales'])\n",
    "plt.xlabel('City Name')\n",
    "plt.ylabel('Sales in USD')\n",
    "plt.xticks(rotation='vertical', size=8)\n",
    "plt.ticklabel_format(axis='y', style='plain')\n",
    "plt.title('Sales per City')\n",
    "plt.show()"
   ]
  },
  {
   "cell_type": "markdown",
   "id": "fd2432cc-b9b0-410e-8fa0-fb4705dafebe",
   "metadata": {
    "tags": []
   },
   "source": [
    "</p> <strong>The conclusion that can be acquired from this anlysis, is the most sales of product from electronic sales happened in San Francisco city and obtained over 8 million USD followed by Los Angels city with total sales almost 6 million USD. The visualization also state that the least sales happened in Portland with sales under one million USD. </strong></p>"
   ]
  },
  {
   "cell_type": "markdown",
   "id": "eb6e268d-6ddb-4895-8b3e-af9f419ed498",
   "metadata": {
    "jp-MarkdownHeadingCollapsed": true,
    "tags": []
   },
   "source": [
    "***"
   ]
  },
  {
   "cell_type": "markdown",
   "id": "76fcb3ed-5de5-4178-93e5-e1b27b922f26",
   "metadata": {},
   "source": [
    "### 3. What time should we display advertisemens to maximize the likelihood of customer’s buying product?"
   ]
  },
  {
   "cell_type": "markdown",
   "id": "e265f3cc-9adc-457a-9543-6871a678267f",
   "metadata": {},
   "source": [
    "<p> For answer this question, we need time information of the orders. The time information can be fetched from the 'Order Date' column. We will add a new column for the hour and minute of the order time which is taken from time part of the 'Order Date' column values. After that, we will group the data based on the order hour to count total order then, we save it in our output dataframe to simplify the visualization. </p>"
   ]
  },
  {
   "cell_type": "code",
   "execution_count": 18,
   "id": "dbded15a-7868-41eb-a4dd-109b7001e0c2",
   "metadata": {
    "tags": []
   },
   "outputs": [
    {
     "data": {
      "text/html": [
       "<div>\n",
       "<style scoped>\n",
       "    .dataframe tbody tr th:only-of-type {\n",
       "        vertical-align: middle;\n",
       "    }\n",
       "\n",
       "    .dataframe tbody tr th {\n",
       "        vertical-align: top;\n",
       "    }\n",
       "\n",
       "    .dataframe thead th {\n",
       "        text-align: right;\n",
       "    }\n",
       "</style>\n",
       "<table border=\"1\" class=\"dataframe\">\n",
       "  <thead>\n",
       "    <tr style=\"text-align: right;\">\n",
       "      <th></th>\n",
       "      <th>Order ID</th>\n",
       "      <th>Product</th>\n",
       "      <th>Quantity Ordered</th>\n",
       "      <th>Price Each</th>\n",
       "      <th>Order Date</th>\n",
       "      <th>Order Month</th>\n",
       "      <th>Hour</th>\n",
       "      <th>Minute</th>\n",
       "      <th>Purchase Address</th>\n",
       "      <th>City</th>\n",
       "      <th>Sales</th>\n",
       "    </tr>\n",
       "  </thead>\n",
       "  <tbody>\n",
       "    <tr>\n",
       "      <th>0</th>\n",
       "      <td>176558</td>\n",
       "      <td>USB-C Charging Cable</td>\n",
       "      <td>2</td>\n",
       "      <td>11.95</td>\n",
       "      <td>2019-04-19 08:46:00</td>\n",
       "      <td>4</td>\n",
       "      <td>8</td>\n",
       "      <td>46</td>\n",
       "      <td>917 1st St, Dallas, TX 75001</td>\n",
       "      <td>Dallas (TX)</td>\n",
       "      <td>23.90</td>\n",
       "    </tr>\n",
       "    <tr>\n",
       "      <th>2</th>\n",
       "      <td>176559</td>\n",
       "      <td>Bose SoundSport Headphones</td>\n",
       "      <td>1</td>\n",
       "      <td>99.99</td>\n",
       "      <td>2019-04-07 22:30:00</td>\n",
       "      <td>4</td>\n",
       "      <td>22</td>\n",
       "      <td>30</td>\n",
       "      <td>682 Chestnut St, Boston, MA 02215</td>\n",
       "      <td>Boston (MA)</td>\n",
       "      <td>99.99</td>\n",
       "    </tr>\n",
       "  </tbody>\n",
       "</table>\n",
       "</div>"
      ],
      "text/plain": [
       "  Order ID                     Product  Quantity Ordered  Price Each  \\\n",
       "0   176558        USB-C Charging Cable                 2       11.95   \n",
       "2   176559  Bose SoundSport Headphones                 1       99.99   \n",
       "\n",
       "           Order Date  Order Month  Hour  Minute  \\\n",
       "0 2019-04-19 08:46:00            4     8      46   \n",
       "2 2019-04-07 22:30:00            4    22      30   \n",
       "\n",
       "                    Purchase Address          City  Sales  \n",
       "0       917 1st St, Dallas, TX 75001   Dallas (TX)  23.90  \n",
       "2  682 Chestnut St, Boston, MA 02215   Boston (MA)  99.99  "
      ]
     },
     "execution_count": 18,
     "metadata": {},
     "output_type": "execute_result"
    }
   ],
   "source": [
    "df.drop(columns=['Hour','Minute'], inplace=True, errors='ignore')\n",
    "df.insert(6, 'Hour', df['Order Date'].dt.hour)\n",
    "df.insert(7, 'Minute', df['Order Date'].dt.minute)\n",
    "df.head(2)"
   ]
  },
  {
   "cell_type": "markdown",
   "id": "d5560316-a611-45cc-8391-f35a46095137",
   "metadata": {},
   "source": [
    "<p> After we have the hour data, we can grouped data by that column and count the row of column 'Order ID'. The result will be transformed into dataframe and saved in 'output' variable.</p>"
   ]
  },
  {
   "cell_type": "code",
   "execution_count": 19,
   "id": "0bb358d8-dc58-4930-ac5e-40bbe6fde279",
   "metadata": {
    "tags": []
   },
   "outputs": [
    {
     "data": {
      "text/html": [
       "<div>\n",
       "<style scoped>\n",
       "    .dataframe tbody tr th:only-of-type {\n",
       "        vertical-align: middle;\n",
       "    }\n",
       "\n",
       "    .dataframe tbody tr th {\n",
       "        vertical-align: top;\n",
       "    }\n",
       "\n",
       "    .dataframe thead th {\n",
       "        text-align: right;\n",
       "    }\n",
       "</style>\n",
       "<table border=\"1\" class=\"dataframe\">\n",
       "  <thead>\n",
       "    <tr style=\"text-align: right;\">\n",
       "      <th></th>\n",
       "      <th>Hour</th>\n",
       "      <th>Order ID</th>\n",
       "    </tr>\n",
       "  </thead>\n",
       "  <tbody>\n",
       "    <tr>\n",
       "      <th>0</th>\n",
       "      <td>0</td>\n",
       "      <td>3910</td>\n",
       "    </tr>\n",
       "    <tr>\n",
       "      <th>1</th>\n",
       "      <td>1</td>\n",
       "      <td>2350</td>\n",
       "    </tr>\n",
       "    <tr>\n",
       "      <th>2</th>\n",
       "      <td>2</td>\n",
       "      <td>1243</td>\n",
       "    </tr>\n",
       "    <tr>\n",
       "      <th>3</th>\n",
       "      <td>3</td>\n",
       "      <td>831</td>\n",
       "    </tr>\n",
       "    <tr>\n",
       "      <th>4</th>\n",
       "      <td>4</td>\n",
       "      <td>854</td>\n",
       "    </tr>\n",
       "    <tr>\n",
       "      <th>5</th>\n",
       "      <td>5</td>\n",
       "      <td>1321</td>\n",
       "    </tr>\n",
       "    <tr>\n",
       "      <th>6</th>\n",
       "      <td>6</td>\n",
       "      <td>2482</td>\n",
       "    </tr>\n",
       "    <tr>\n",
       "      <th>7</th>\n",
       "      <td>7</td>\n",
       "      <td>4011</td>\n",
       "    </tr>\n",
       "    <tr>\n",
       "      <th>8</th>\n",
       "      <td>8</td>\n",
       "      <td>6256</td>\n",
       "    </tr>\n",
       "    <tr>\n",
       "      <th>9</th>\n",
       "      <td>9</td>\n",
       "      <td>8748</td>\n",
       "    </tr>\n",
       "    <tr>\n",
       "      <th>10</th>\n",
       "      <td>10</td>\n",
       "      <td>10944</td>\n",
       "    </tr>\n",
       "    <tr>\n",
       "      <th>11</th>\n",
       "      <td>11</td>\n",
       "      <td>12411</td>\n",
       "    </tr>\n",
       "    <tr>\n",
       "      <th>12</th>\n",
       "      <td>12</td>\n",
       "      <td>12587</td>\n",
       "    </tr>\n",
       "    <tr>\n",
       "      <th>13</th>\n",
       "      <td>13</td>\n",
       "      <td>12129</td>\n",
       "    </tr>\n",
       "    <tr>\n",
       "      <th>14</th>\n",
       "      <td>14</td>\n",
       "      <td>10984</td>\n",
       "    </tr>\n",
       "    <tr>\n",
       "      <th>15</th>\n",
       "      <td>15</td>\n",
       "      <td>10175</td>\n",
       "    </tr>\n",
       "    <tr>\n",
       "      <th>16</th>\n",
       "      <td>16</td>\n",
       "      <td>10384</td>\n",
       "    </tr>\n",
       "    <tr>\n",
       "      <th>17</th>\n",
       "      <td>17</td>\n",
       "      <td>10899</td>\n",
       "    </tr>\n",
       "    <tr>\n",
       "      <th>18</th>\n",
       "      <td>18</td>\n",
       "      <td>12280</td>\n",
       "    </tr>\n",
       "    <tr>\n",
       "      <th>19</th>\n",
       "      <td>19</td>\n",
       "      <td>12905</td>\n",
       "    </tr>\n",
       "    <tr>\n",
       "      <th>20</th>\n",
       "      <td>20</td>\n",
       "      <td>12228</td>\n",
       "    </tr>\n",
       "    <tr>\n",
       "      <th>21</th>\n",
       "      <td>21</td>\n",
       "      <td>10921</td>\n",
       "    </tr>\n",
       "    <tr>\n",
       "      <th>22</th>\n",
       "      <td>22</td>\n",
       "      <td>8822</td>\n",
       "    </tr>\n",
       "    <tr>\n",
       "      <th>23</th>\n",
       "      <td>23</td>\n",
       "      <td>6275</td>\n",
       "    </tr>\n",
       "  </tbody>\n",
       "</table>\n",
       "</div>"
      ],
      "text/plain": [
       "    Hour  Order ID\n",
       "0      0      3910\n",
       "1      1      2350\n",
       "2      2      1243\n",
       "3      3       831\n",
       "4      4       854\n",
       "5      5      1321\n",
       "6      6      2482\n",
       "7      7      4011\n",
       "8      8      6256\n",
       "9      9      8748\n",
       "10    10     10944\n",
       "11    11     12411\n",
       "12    12     12587\n",
       "13    13     12129\n",
       "14    14     10984\n",
       "15    15     10175\n",
       "16    16     10384\n",
       "17    17     10899\n",
       "18    18     12280\n",
       "19    19     12905\n",
       "20    20     12228\n",
       "21    21     10921\n",
       "22    22      8822\n",
       "23    23      6275"
      ]
     },
     "execution_count": 19,
     "metadata": {},
     "output_type": "execute_result"
    }
   ],
   "source": [
    "output = pd.DataFrame(df.groupby('Hour')['Order ID'].count()).reset_index()\n",
    "output"
   ]
  },
  {
   "cell_type": "markdown",
   "id": "ff707651-b6b4-4456-b45c-13caa3006c31",
   "metadata": {},
   "source": [
    "<p> The visualization is made using line chart that specify the hour and number of order at that hour. To state the encounter point, using dot symbol as a mark is really helpful.</p>"
   ]
  },
  {
   "cell_type": "code",
   "execution_count": 20,
   "id": "913066f5-bfa9-4198-8466-21f05895eaf6",
   "metadata": {
    "tags": []
   },
   "outputs": [
    {
     "data": {
      "image/png": "[encoded data removed]",
      "text/plain": [
       "<Figure size 640x480 with 1 Axes>"
      ]
     },
     "metadata": {},
     "output_type": "display_data"
    }
   ],
   "source": [
    "plt.plot(output['Hour'], output['Order ID'], marker='.', color='green')\n",
    "plt.xticks(output['Hour'], size=8)\n",
    "plt.xlabel('Hour')\n",
    "plt.ylabel('Number of Orders')\n",
    "plt.title('Time Order Been Made')\n",
    "\n",
    "plt.grid()\n",
    "plt.show()"
   ]
  },
  {
   "cell_type": "markdown",
   "id": "3c764468-6993-4b41-8b59-9b7cf822a542",
   "metadata": {
    "tags": []
   },
   "source": [
    "<p><strong> From the data, we can conclude that the most orders was occurred arround 7 o'clock in the evening, with number of orders of 12905, followed by data of 12 o'clock, with number of orders of 12587, which is actually not much different with number of orders at around 7 o'clock. And for the least orders was occurred around three and four o'clock in the morning. So if we need to suggest the perfect time for placing advertisement, we could suggest 7 around 7 o'clock or 12 o'clock.</strong></p>"
   ]
  },
  {
   "cell_type": "markdown",
   "id": "4661c498-33a5-4730-bac2-c8265f036f14",
   "metadata": {},
   "source": [
    "***"
   ]
  },
  {
   "cell_type": "markdown",
   "id": "2d673532-e10b-4407-af3d-6ad5d567c5d9",
   "metadata": {
    "tags": []
   },
   "source": [
    "### 4. What products are most often sold together?"
   ]
  },
  {
   "cell_type": "markdown",
   "id": "0ca70055-9722-43fa-8cbc-a161ed8da42c",
   "metadata": {
    "tags": []
   },
   "source": [
    "<p>For this step, we will find what product are often bought together by the customers. So, we can analyze it by looking at data of different product names with same 'Order ID' value. We can use .duplicated() on 'Order ID' to show duplicate data and use 'keep=False' so it returns all the duplicated data and the duplicates.</p>"
   ]
  },
  {
   "cell_type": "code",
   "execution_count": 21,
   "id": "f0335765-6754-4fb4-8c1e-e3613cb71bc3",
   "metadata": {
    "tags": []
   },
   "outputs": [
    {
     "data": {
      "text/html": [
       "<div>\n",
       "<style scoped>\n",
       "    .dataframe tbody tr th:only-of-type {\n",
       "        vertical-align: middle;\n",
       "    }\n",
       "\n",
       "    .dataframe tbody tr th {\n",
       "        vertical-align: top;\n",
       "    }\n",
       "\n",
       "    .dataframe thead th {\n",
       "        text-align: right;\n",
       "    }\n",
       "</style>\n",
       "<table border=\"1\" class=\"dataframe\">\n",
       "  <thead>\n",
       "    <tr style=\"text-align: right;\">\n",
       "      <th></th>\n",
       "      <th>Order ID</th>\n",
       "      <th>Product</th>\n",
       "      <th>Quantity Ordered</th>\n",
       "      <th>Price Each</th>\n",
       "      <th>Order Date</th>\n",
       "      <th>Order Month</th>\n",
       "      <th>Hour</th>\n",
       "      <th>Minute</th>\n",
       "      <th>Purchase Address</th>\n",
       "      <th>City</th>\n",
       "      <th>Sales</th>\n",
       "    </tr>\n",
       "  </thead>\n",
       "  <tbody>\n",
       "    <tr>\n",
       "      <th>3</th>\n",
       "      <td>176560</td>\n",
       "      <td>Google Phone</td>\n",
       "      <td>1</td>\n",
       "      <td>600.0</td>\n",
       "      <td>2019-04-12 14:38:00</td>\n",
       "      <td>4</td>\n",
       "      <td>14</td>\n",
       "      <td>38</td>\n",
       "      <td>669 Spruce St, Los Angeles, CA 90001</td>\n",
       "      <td>Los Angeles (CA)</td>\n",
       "      <td>600.0</td>\n",
       "    </tr>\n",
       "  </tbody>\n",
       "</table>\n",
       "</div>"
      ],
      "text/plain": [
       "  Order ID       Product  Quantity Ordered  Price Each          Order Date  \\\n",
       "3   176560  Google Phone                 1       600.0 2019-04-12 14:38:00   \n",
       "\n",
       "   Order Month  Hour  Minute                      Purchase Address  \\\n",
       "3            4    14      38  669 Spruce St, Los Angeles, CA 90001   \n",
       "\n",
       "                City  Sales  \n",
       "3   Los Angeles (CA)  600.0  "
      ]
     },
     "execution_count": 21,
     "metadata": {},
     "output_type": "execute_result"
    }
   ],
   "source": [
    "df_items = df[df['Order ID'].duplicated(keep=False)]\n",
    "df_items.head(1)"
   ]
  },
  {
   "cell_type": "markdown",
   "id": "2f610584-17a7-46bd-9cdc-74b7f78b70df",
   "metadata": {},
   "source": [
    "<p>Next, we will use .transform() to join the name of products that have same 'Order ID' value and seperated the word with comma, so we won't get confused with the combined products' name. To make this join happen, we have to group the data by its 'Order ID' values first. Then the combined products' name will be saved in a new column called 'Grouped Items' and placed after the last column of current dataframe, which we get from count the length of column of the dataframe's column using len(). We will add all this information in .insert() function, so the column can be generated. Because at this time, I only need the two columns, I'll overwrite the dataframe to save only two necessary columns, which are 'Order ID' and 'Grouped Items' column. Then, we could drop the duplicates by the 'Order ID' because the 'Grouped Items' column already has the joined value of the products' name.</p>"
   ]
  },
  {
   "cell_type": "code",
   "execution_count": 22,
   "id": "4bd3d79d-66d4-4ab6-b3ec-0c6318716c52",
   "metadata": {
    "tags": []
   },
   "outputs": [],
   "source": [
    "df_items.insert(len(df_items.columns), 'Grouped Items', df_items.groupby('Order ID')['Product'].transform(lambda x: ','.join(x)))\n",
    "df_items=df_items[['Order ID', 'Grouped Items']].copy()"
   ]
  },
  {
   "cell_type": "code",
   "execution_count": 23,
   "id": "ee7138fb-6340-4e87-9d03-31a37bc20afd",
   "metadata": {
    "tags": []
   },
   "outputs": [],
   "source": [
    "df_test = df_items[['Order ID', 'Grouped Items']].drop_duplicates()\n",
    "#df_test2 = df_items2.drop_duplicates()"
   ]
  },
  {
   "cell_type": "markdown",
   "id": "c1fc811b-8be2-4173-b716-5b7d7e20c821",
   "metadata": {},
   "source": [
    "<p>Below, is the result of the logic, we can see the 'Grouped Items' column has all products name of one order id. We also can do a recheck to make sure that all the 'Order ID' is unique and no duplicate by using the code below. We group the data using order id and count the data of the group and create the condition. The condition that must be met is the count of each row shown can't be more than one. We can sum all the countings and expect the result to be zero, because if it was not zero, there must be a true condition of the logic, the order id must be duplicated or else.</p>"
   ]
  },
  {
   "cell_type": "code",
   "execution_count": 24,
   "id": "5153f61b-cf53-4424-8e44-6f1b0debb835",
   "metadata": {
    "tags": []
   },
   "outputs": [
    {
     "data": {
      "text/plain": [
       "0"
      ]
     },
     "execution_count": 24,
     "metadata": {},
     "output_type": "execute_result"
    }
   ],
   "source": [
    "sum(df_test.groupby('Order ID')['Order ID'].count() > 1)"
   ]
  },
  {
   "cell_type": "markdown",
   "id": "e39027dd-c163-4603-a6ca-a5363d586baf",
   "metadata": {},
   "source": [
    "<p>Now, we will make a counter to count the combination of products. Then, get every row of 'Grouped Items' column, split the value as items inside a list, and use .combination() to return the possible combination. The .Counter() in the looping will give a count for every combination and the count.update() will update the count for every list of combination that the .Counter() gave. Last, line will show the most purchased combination of products.\n",
    "</p>"
   ]
  },
  {
   "cell_type": "code",
   "execution_count": 25,
   "id": "39f641a0-7715-4622-b581-f94fe538a477",
   "metadata": {
    "tags": []
   },
   "outputs": [
    {
     "data": {
      "text/plain": [
       "[(('iPhone', 'Lightning Charging Cable'), 1005),\n",
       " (('Google Phone', 'USB-C Charging Cable'), 987),\n",
       " (('iPhone', 'Wired Headphones'), 447),\n",
       " (('Google Phone', 'Wired Headphones'), 414),\n",
       " (('Vareebadd Phone', 'USB-C Charging Cable'), 361),\n",
       " (('iPhone', 'Apple Airpods Headphones'), 360),\n",
       " (('Google Phone', 'Bose SoundSport Headphones'), 220),\n",
       " (('USB-C Charging Cable', 'Wired Headphones'), 160),\n",
       " (('Vareebadd Phone', 'Wired Headphones'), 143),\n",
       " (('Lightning Charging Cable', 'Wired Headphones'), 92)]"
      ]
     },
     "execution_count": 25,
     "metadata": {},
     "output_type": "execute_result"
    }
   ],
   "source": [
    "from itertools import combinations\n",
    "from collections import Counter\n",
    "\n",
    "count = Counter()\n",
    "\n",
    "for row in df_test['Grouped Items']:\n",
    "    row_list = row.split(',')\n",
    "    count.update(Counter(combinations(row_list, 2)))\n",
    "\n",
    "count.most_common(10)"
   ]
  },
  {
   "cell_type": "markdown",
   "id": "f8c72450-d707-4407-b302-137544f87371",
   "metadata": {},
   "source": [
    "<p><strong>From the result above, combination of product that frequently bought together are iPhone and Lightning Cable. This combination of products was ordered for over a thousand times. It followed by combination of Google Phone and USB-C Charging Cable which occurred for almost a thousand times.</strong></p>"
   ]
  },
  {
   "cell_type": "markdown",
   "id": "69799ff4-13be-44bf-aba2-be6626a835e7",
   "metadata": {},
   "source": [
    "***"
   ]
  },
  {
   "cell_type": "markdown",
   "id": "28a1aa1a-3333-456d-83da-da45de71251b",
   "metadata": {},
   "source": [
    "### 5. What product sold the most?"
   ]
  },
  {
   "cell_type": "markdown",
   "id": "79b1f40d-2d3a-424f-9f4e-67af54280d76",
   "metadata": {
    "tags": []
   },
   "source": [
    "<p> Here we want to see which product is sold the most. For that goal, we can grouped the data by the product name from 'Product' column and sum the ordered quantity from 'Quantity Ordered' column for every order. We will need sorting to see the most sold product and save the output as a dataframe in output variable. </p>"
   ]
  },
  {
   "cell_type": "code",
   "execution_count": 26,
   "id": "d2e60d42-b654-4b76-8b77-f83444b4a1b1",
   "metadata": {
    "tags": []
   },
   "outputs": [
    {
     "data": {
      "text/html": [
       "<div>\n",
       "<style scoped>\n",
       "    .dataframe tbody tr th:only-of-type {\n",
       "        vertical-align: middle;\n",
       "    }\n",
       "\n",
       "    .dataframe tbody tr th {\n",
       "        vertical-align: top;\n",
       "    }\n",
       "\n",
       "    .dataframe thead th {\n",
       "        text-align: right;\n",
       "    }\n",
       "</style>\n",
       "<table border=\"1\" class=\"dataframe\">\n",
       "  <thead>\n",
       "    <tr style=\"text-align: right;\">\n",
       "      <th></th>\n",
       "      <th>Product</th>\n",
       "      <th>Price Each</th>\n",
       "      <th>Quantity Ordered</th>\n",
       "    </tr>\n",
       "  </thead>\n",
       "  <tbody>\n",
       "    <tr>\n",
       "      <th>0</th>\n",
       "      <td>AAA Batteries (4-pack)</td>\n",
       "      <td>2.99</td>\n",
       "      <td>31017</td>\n",
       "    </tr>\n",
       "    <tr>\n",
       "      <th>1</th>\n",
       "      <td>AA Batteries (4-pack)</td>\n",
       "      <td>3.84</td>\n",
       "      <td>27635</td>\n",
       "    </tr>\n",
       "    <tr>\n",
       "      <th>2</th>\n",
       "      <td>USB-C Charging Cable</td>\n",
       "      <td>11.95</td>\n",
       "      <td>23975</td>\n",
       "    </tr>\n",
       "    <tr>\n",
       "      <th>3</th>\n",
       "      <td>Lightning Charging Cable</td>\n",
       "      <td>14.95</td>\n",
       "      <td>23217</td>\n",
       "    </tr>\n",
       "    <tr>\n",
       "      <th>4</th>\n",
       "      <td>Wired Headphones</td>\n",
       "      <td>11.99</td>\n",
       "      <td>20557</td>\n",
       "    </tr>\n",
       "  </tbody>\n",
       "</table>\n",
       "</div>"
      ],
      "text/plain": [
       "                    Product  Price Each  Quantity Ordered\n",
       "0    AAA Batteries (4-pack)        2.99             31017\n",
       "1     AA Batteries (4-pack)        3.84             27635\n",
       "2      USB-C Charging Cable       11.95             23975\n",
       "3  Lightning Charging Cable       14.95             23217\n",
       "4          Wired Headphones       11.99             20557"
      ]
     },
     "execution_count": 26,
     "metadata": {},
     "output_type": "execute_result"
    }
   ],
   "source": [
    "output = pd.DataFrame(df.groupby(['Product', 'Price Each'])['Quantity Ordered'].sum().sort_values(ascending=False)).reset_index()\n",
    "output.head()"
   ]
  },
  {
   "cell_type": "code",
   "execution_count": 187,
   "id": "2c54e674-384f-4fa0-9ec0-fe01f8dc7042",
   "metadata": {
    "tags": []
   },
   "outputs": [
    {
     "data": {
      "image/png": "[encoded data removed]",
      "text/plain": [
       "<Figure size 640x480 with 2 Axes>"
      ]
     },
     "metadata": {},
     "output_type": "display_data"
    }
   ],
   "source": [
    "#plt.bar(output['Product'], output['Quantity Ordered'])\n",
    "#plt.xlabel('Product Name')\n",
    "#plt.ylabel('Quantity')\n",
    "#plt.xticks(rotation='vertical', size=8)\n",
    "#plt.title('Total Sold Product')\n",
    "\n",
    "fig, ax1 = plt.subplots()\n",
    "ax2 = ax1.twinx()\n",
    "\n",
    "ax1.bar(output['Product'], output['Quantity Ordered'], color='orange')\n",
    "ax2.plot(output['Product'], output['Price Each'], color='green', marker='.')\n",
    "\n",
    "ax1.set_ylabel('Quantity')\n",
    "ax2.set_ylabel('Price in USD')\n",
    "\n",
    "ax2.grid(False)\n",
    "ax1.set_xlabel('Product Name')\n",
    "ax1.tick_params(axis='x', labelrotation=90, labelsize=8)\n",
    "ax1.tick_params(axis='y', labelsize=8)\n",
    "ax2.tick_params(axis='y', labelsize=8)\n",
    "\n",
    "fig.legend(labels=['Quantity','Price'])\n",
    "plt.title(\"Most Sold Product\")\n",
    "#df.groupby(['Product', 'Price Each'])['Price Each'].sum().sort_values(ascending=False).plot(kind='line', color='blue')\n",
    "#df.groupby('Product')['Quantity Ordered'].sum().sort_values(ascending=False).plot(kind='bar', ylabel='Product Name', xlabel='Quantity', fontsize=8, title='Total Sold Product', color='orange')\n",
    "\n",
    "plt.show()"
   ]
  },
  {
   "cell_type": "markdown",
   "id": "42491205-95ca-40de-8669-3d2cc0a82984",
   "metadata": {},
   "source": [
    "<p> <strong>From the chart, we can obtain the information that the most sold product of electronic store is AAA Batteries (4-pack) which sold for over three thousand units and the least product sold is LG Dryer which sold below a thousand units. If we see the line chart of price, we can assume that one of the reasons why the most sold product attracts customers is because its price is affordable. </strong> </p>"
   ]
  }
 ],
 "metadata": {
  "kernelspec": {
   "display_name": "Python 3 (ipykernel)",
   "language": "python",
   "name": "python3"
  },
  "language_info": {
   "codemirror_mode": {
    "name": "ipython",
    "version": 3
   },
   "file_extension": ".py",
   "mimetype": "text/x-python",
   "name": "python",
   "nbconvert_exporter": "python",
   "pygments_lexer": "ipython3",
   "version": "3.7.6"
  }
 },
 "nbformat": 4,
 "nbformat_minor": 5
}
